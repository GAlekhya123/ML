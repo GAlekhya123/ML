{
 "cells": [
  {
   "cell_type": "markdown",
   "metadata": {},
   "source": [
    "## Time Series\n",
    "- Time Series is a Series of data points indexed (or listed or graphed) in time order. Therefore the - data, is organized by relatively deterministic timestamps, and may be compared to random sample - data.\n",
    "\n",
    "- Time series data is an important form of structured data in many different fields, such as finance, - economics, ecology, neuroscience, and physics. Anything that is observed or measured at many points - in time forms a time series.\n",
    "\n",
    "- Time series analysis comprises methods for analyzing time series data in order to extract meaningful statistics and other characteristics of the data. Time series forecasting is the use of a - model to predict future values based on previously observed values.\n",
    "\n",
    "- While regression analysis is often employed in such a way as to test theories that the current values of one or more independent time series affect the current value of another time series.\n",
    "\n",
    "- How you mark and refer to time series data depends on the application, and you may have one of the following:\n",
    "\n",
    "- Predicting Stock price or predicting the weather conditions for tomorrow,time-series has significant role to play.\n",
    "\n",
    "- Forecasting the birth rate at all hospitals in a city each year.\n",
    "- Forecasting product sales in units sold each day for a store.\n",
    "- Forecasting the number of passengers through a train station each day."
   ]
  },
  {
   "cell_type": "code",
   "execution_count": 1,
   "metadata": {},
   "outputs": [],
   "source": [
    "from datetime import datetime"
   ]
  },
  {
   "cell_type": "markdown",
   "metadata": {},
   "source": [
    "#### Collect present details"
   ]
  },
  {
   "cell_type": "code",
   "execution_count": 2,
   "metadata": {},
   "outputs": [
    {
     "data": {
      "text/plain": [
       "datetime.datetime(2020, 2, 13, 11, 31, 17, 809214)"
      ]
     },
     "execution_count": 2,
     "metadata": {},
     "output_type": "execute_result"
    }
   ],
   "source": [
    "a =datetime.now()\n",
    "a"
   ]
  },
  {
   "cell_type": "code",
   "execution_count": 9,
   "metadata": {},
   "outputs": [
    {
     "data": {
      "text/plain": [
       "2020"
      ]
     },
     "execution_count": 9,
     "metadata": {},
     "output_type": "execute_result"
    }
   ],
   "source": [
    "a.year\n"
   ]
  },
  {
   "cell_type": "code",
   "execution_count": 10,
   "metadata": {},
   "outputs": [
    {
     "data": {
      "text/plain": [
       "datetime.date(2020, 2, 13)"
      ]
     },
     "execution_count": 10,
     "metadata": {},
     "output_type": "execute_result"
    }
   ],
   "source": [
    "a.date()"
   ]
  },
  {
   "cell_type": "code",
   "execution_count": 11,
   "metadata": {},
   "outputs": [
    {
     "name": "stdout",
     "output_type": "stream",
     "text": [
      "sum of 2 and 5 = 7\n"
     ]
    }
   ],
   "source": [
    "print('sum of {} and {} = {}'.format(2,5,2+5))\n"
   ]
  },
  {
   "cell_type": "code",
   "execution_count": 6,
   "metadata": {},
   "outputs": [
    {
     "name": "stdout",
     "output_type": "stream",
     "text": [
      "2020-02-13 11:32:28.645225\n",
      "Date now :13-2-2020\n",
      "Time now :11:32:28\n"
     ]
    }
   ],
   "source": [
    "now = datetime.now()\n",
    "print(now)\n",
    "print('Date now :{}-{}-{}'.format(now.day, now.month, now.year))\n",
    "print('Time now :{}:{}:{}'.format(now.hour,now.minute, now.second))"
   ]
  },
  {
   "cell_type": "markdown",
   "metadata": {},
   "source": [
    "### Datetime stores both the date and time down to the microsecond. timedelta represents the temporal difference between two datetime objects:"
   ]
  },
  {
   "cell_type": "code",
   "execution_count": 19,
   "metadata": {},
   "outputs": [
    {
     "data": {
      "text/plain": [
       "datetime.timedelta(days=-3, seconds=34200)"
      ]
     },
     "execution_count": 19,
     "metadata": {},
     "output_type": "execute_result"
    }
   ],
   "source": [
    "delta = datetime(2020, 2, 11) - datetime(2020, 2, 13, 14, 30)\n",
    "delta"
   ]
  },
  {
   "cell_type": "code",
   "execution_count": 20,
   "metadata": {},
   "outputs": [
    {
     "data": {
      "text/plain": [
       "datetime.timedelta(days=7930, seconds=64464, microseconds=276508)"
      ]
     },
     "execution_count": 20,
     "metadata": {},
     "output_type": "execute_result"
    }
   ],
   "source": [
    "datetime.now() - datetime(1998,5,28,17,45)"
   ]
  },
  {
   "cell_type": "code",
   "execution_count": 21,
   "metadata": {},
   "outputs": [
    {
     "data": {
      "text/plain": [
       "34200"
      ]
     },
     "execution_count": 21,
     "metadata": {},
     "output_type": "execute_result"
    }
   ],
   "source": [
    "delta.seconds"
   ]
  },
  {
   "cell_type": "code",
   "execution_count": 23,
   "metadata": {},
   "outputs": [
    {
     "data": {
      "text/plain": [
       "datetime.timedelta(days=-3, seconds=34200)"
      ]
     },
     "execution_count": 23,
     "metadata": {},
     "output_type": "execute_result"
    }
   ],
   "source": [
    "td = datetime(2020, 2, 11) - datetime(2020, 2, 13, 14, 30)\n",
    "td"
   ]
  },
  {
   "cell_type": "code",
   "execution_count": 24,
   "metadata": {},
   "outputs": [
    {
     "data": {
      "text/plain": [
       "-225000.0"
      ]
     },
     "execution_count": 24,
     "metadata": {},
     "output_type": "execute_result"
    }
   ],
   "source": [
    "(td.microseconds + (td.seconds + td.days * 24 * 3600) * 10**6) / 10**6"
   ]
  },
  {
   "cell_type": "code",
   "execution_count": 25,
   "metadata": {},
   "outputs": [
    {
     "data": {
      "text/plain": [
       "datetime.datetime(2012, 12, 25, 0, 0)"
      ]
     },
     "execution_count": 25,
     "metadata": {},
     "output_type": "execute_result"
    }
   ],
   "source": [
    "# using timedelta\n",
    "from datetime import *\n",
    "datetime(2011,12,26) + timedelta(365)"
   ]
  },
  {
   "cell_type": "markdown",
   "metadata": {},
   "source": [
    "### Converting Between String and Datetime"
   ]
  },
  {
   "cell_type": "markdown",
   "metadata": {},
   "source": [
    "- The strptime() method creates a datetime object from the given string.\n",
    "\n",
    "- Note: You cannot create datetime object from every string. The string needs to be in a certain format.\n",
    "\n"
   ]
  },
  {
   "cell_type": "code",
   "execution_count": 26,
   "metadata": {},
   "outputs": [
    {
     "data": {
      "text/plain": [
       "datetime.datetime(2019, 12, 12, 0, 0)"
      ]
     },
     "execution_count": 26,
     "metadata": {},
     "output_type": "execute_result"
    }
   ],
   "source": [
    "value = '2019 december 12' \n",
    "datetime.strptime(value, '%Y %B %d')"
   ]
  },
  {
   "cell_type": "markdown",
   "metadata": {},
   "source": [
    "## Datetime format specification (ISO C89 compatible)\n",
    "- %Y - 4-digit year\n",
    "- %y - 2-digit year\n",
    "- %m - 2-digit month [01, 12]\n",
    "- %d - 2-digit day [01, 31]\n",
    "- %H - Hour (24-hour clock) [00, 23]\n",
    "- %I - Hour (12-hour clock) [01, 12]\n",
    "- %M - 2-digit minute [00, 59]\n",
    "- %S - Second [00, 61] (seconds 60, 61 account for leap seconds)\n",
    "- %w - Weekday as integer [0 (Sunday), 6]\n",
    "- %U - Week number of the year [00, 53]. Sunday is considered the first day of the week, and days - - - before the first Sunday of the year are “week 0”.\n",
    "- %W - Week number of the year [00, 53]. Monday is considered the first day of the week, and days - - - before the first Monday of the year are “week 0”.\n",
    "- %z - UTC time zone offset as +HHMM or -HHMM, empty if time zone naive\n",
    "- %F - Shortcut for %Y-%m-%d, for example 2012-4-18\n",
    "- %D - Shortcut for %m/%d/%y, for example 04/18/12\n",
    "## Locale-specific date formatting\n",
    "- %a - Abbreviated weekday name\n",
    "- %A - Full weekday name\n",
    "- %b - Abbreviated month name\n",
    "- %B - Full month name\n",
    "- %c - Full date and time, for example ‘Tue 01 May 2012 04:20:57 PM’\n",
    "- %p - Locale equivalent of AM or PM\n",
    "- %x - Locale-appropriate formatted date; e.g. in US May 1, 2012 yields ’05/01/2012’\n",
    "- %X - Locale-appropriate time, e.g. ’04:24:12 PM’"
   ]
  },
  {
   "cell_type": "code",
   "execution_count": 27,
   "metadata": {},
   "outputs": [
    {
     "data": {
      "text/plain": [
       "[datetime.datetime(2019, 12, 11, 0, 0), datetime.datetime(1993, 12, 26, 0, 0)]"
      ]
     },
     "execution_count": 27,
     "metadata": {},
     "output_type": "execute_result"
    }
   ],
   "source": [
    "datestrs = ['11-December-2019', '26-December-1993']\n",
    "[datetime.strptime(x,\"%d-%B-%Y\") for x in datestrs]"
   ]
  },
  {
   "cell_type": "code",
   "execution_count": 28,
   "metadata": {},
   "outputs": [
    {
     "data": {
      "text/plain": [
       "datetime.date(2020, 2, 13)"
      ]
     },
     "execution_count": 28,
     "metadata": {},
     "output_type": "execute_result"
    }
   ],
   "source": [
    "a= date.today()\n",
    "a"
   ]
  },
  {
   "cell_type": "code",
   "execution_count": 29,
   "metadata": {},
   "outputs": [
    {
     "data": {
      "text/plain": [
       "'13  02  2020'"
      ]
     },
     "execution_count": 29,
     "metadata": {},
     "output_type": "execute_result"
    }
   ],
   "source": [
    "a.strftime('%d  %m  %Y')"
   ]
  },
  {
   "cell_type": "code",
   "execution_count": 30,
   "metadata": {},
   "outputs": [
    {
     "name": "stdout",
     "output_type": "stream",
     "text": [
      "dt_object1 = 2018-11-12 09:15:32\n",
      "dt_object2 = 2018-12-11 09:15:32\n"
     ]
    }
   ],
   "source": [
    "dt_string = \"12/11/2018 09:15:32\"\n",
    "# Considering date is in dd/mm/yyyy format\n",
    "dt_object1 = datetime.strptime(dt_string, \"%d/%m/%Y %H:%M:%S\")\n",
    "print(\"dt_object1 =\", dt_object1)\n",
    "# Considering date is in mm/dd/yyyy format\n",
    "dt_object2 = datetime.strptime(dt_string, \"%m/%d/%Y %H:%M:%S\")\n",
    "print(\"dt_object2 =\", dt_object2)"
   ]
  },
  {
   "cell_type": "markdown",
   "metadata": {},
   "source": [
    "### Generating data range\n"
   ]
  },
  {
   "cell_type": "markdown",
   "metadata": {},
   "source": [
    "- [offset aliases](https://pandas.pydata.org/pandas-docs/stable/user_guide/timeseries.html)"
   ]
  },
  {
   "cell_type": "code",
   "execution_count": 32,
   "metadata": {},
   "outputs": [
    {
     "data": {
      "text/plain": [
       "DatetimeIndex(['2000-01-31', '2000-07-31'], dtype='datetime64[ns]', freq='6M')"
      ]
     },
     "execution_count": 32,
     "metadata": {},
     "output_type": "execute_result"
    }
   ],
   "source": [
    "import pandas as pd\n",
    "pd.date_range('2000-01-01', '2001-01-01', freq='6M')"
   ]
  },
  {
   "cell_type": "code",
   "execution_count": 34,
   "metadata": {},
   "outputs": [
    {
     "data": {
      "text/plain": [
       "DatetimeIndex(['2000-01-31', '2000-02-29', '2000-03-31', '2000-04-28',\n",
       "               '2000-05-31', '2000-06-30', '2000-07-31', '2000-08-31',\n",
       "               '2000-09-29', '2000-10-31', '2000-11-30', '2000-12-29'],\n",
       "              dtype='datetime64[ns]', freq='BM')"
      ]
     },
     "execution_count": 34,
     "metadata": {},
     "output_type": "execute_result"
    }
   ],
   "source": [
    "pd.date_range('2000-01-01', '2001-01-01', freq='BM')"
   ]
  },
  {
   "cell_type": "code",
   "execution_count": 35,
   "metadata": {},
   "outputs": [
    {
     "data": {
      "text/plain": [
       "DatetimeIndex(['2019-01-25', '2019-02-22', '2019-03-22', '2019-04-26',\n",
       "               '2019-05-24', '2019-06-28', '2019-07-26', '2019-08-23',\n",
       "               '2019-09-27', '2019-10-25', '2019-11-22', '2019-12-27'],\n",
       "              dtype='datetime64[ns]', freq='WOM-4FRI')"
      ]
     },
     "execution_count": 35,
     "metadata": {},
     "output_type": "execute_result"
    }
   ],
   "source": [
    "rng = pd.date_range('2019-01-01', '2020-01-01', freq='WOM-4FRI')\n",
    "rng"
   ]
  },
  {
   "cell_type": "code",
   "execution_count": 36,
   "metadata": {},
   "outputs": [
    {
     "data": {
      "text/plain": [
       "DatetimeIndex(['2019-01-01', '2019-01-02', '2019-01-03', '2019-01-04',\n",
       "               '2019-01-05', '2019-01-06', '2019-01-07', '2019-01-08',\n",
       "               '2019-01-09', '2019-01-10',\n",
       "               ...\n",
       "               '2019-12-23', '2019-12-24', '2019-12-25', '2019-12-26',\n",
       "               '2019-12-27', '2019-12-28', '2019-12-29', '2019-12-30',\n",
       "               '2019-12-31', '2020-01-01'],\n",
       "              dtype='datetime64[ns]', length=366, freq='D')"
      ]
     },
     "execution_count": 36,
     "metadata": {},
     "output_type": "execute_result"
    }
   ],
   "source": [
    "pd.date_range('2019-01-01', '2020-01-01', freq='D')"
   ]
  },
  {
   "cell_type": "markdown",
   "metadata": {},
   "source": [
    "### Create a Data Series with data range as index\n"
   ]
  },
  {
   "cell_type": "code",
   "execution_count": 37,
   "metadata": {},
   "outputs": [
    {
     "data": {
      "text/plain": [
       "2000-01-01   -1.035165\n",
       "2000-01-02   -0.105818\n",
       "2000-01-03   -0.678120\n",
       "2000-01-04    0.354018\n",
       "2000-01-05    0.922401\n",
       "                ...   \n",
       "2002-09-22    0.521529\n",
       "2002-09-23   -0.171666\n",
       "2002-09-24    1.566843\n",
       "2002-09-25    1.501293\n",
       "2002-09-26    0.281345\n",
       "Freq: D, Length: 1000, dtype: float64"
      ]
     },
     "execution_count": 37,
     "metadata": {},
     "output_type": "execute_result"
    }
   ],
   "source": [
    "\n",
    "import pandas as pd\n",
    "import numpy as np\n",
    "longer_ts = pd.Series(np.random.randn(1000),\n",
    "                      index=pd.date_range('1/1/2000', periods=1000))\n",
    "longer_ts"
   ]
  },
  {
   "cell_type": "code",
   "execution_count": 38,
   "metadata": {},
   "outputs": [
    {
     "data": {
      "text/plain": [
       "2001-01-01    0.934788\n",
       "2001-01-02   -1.746761\n",
       "2001-01-03   -1.325442\n",
       "2001-01-04    0.563798\n",
       "2001-01-05   -0.409987\n",
       "                ...   \n",
       "2001-12-27   -1.461299\n",
       "2001-12-28   -0.152775\n",
       "2001-12-29    0.579588\n",
       "2001-12-30    1.091576\n",
       "2001-12-31   -1.345360\n",
       "Freq: D, Length: 365, dtype: float64"
      ]
     },
     "execution_count": 38,
     "metadata": {},
     "output_type": "execute_result"
    }
   ],
   "source": [
    "longer_ts['2001']"
   ]
  },
  {
   "cell_type": "code",
   "execution_count": 39,
   "metadata": {},
   "outputs": [
    {
     "data": {
      "text/plain": [
       "2001-05-01   -0.037713\n",
       "2001-05-02   -0.716731\n",
       "2001-05-03   -1.783294\n",
       "2001-05-04    0.161208\n",
       "2001-05-05   -1.486790\n",
       "2001-05-06    0.115736\n",
       "2001-05-07   -0.422307\n",
       "2001-05-08    0.829415\n",
       "2001-05-09    1.508537\n",
       "2001-05-10    0.557393\n",
       "2001-05-11    0.076024\n",
       "2001-05-12   -0.308470\n",
       "2001-05-13    0.436586\n",
       "2001-05-14   -0.243743\n",
       "2001-05-15   -0.005466\n",
       "2001-05-16    1.250341\n",
       "2001-05-17    0.627963\n",
       "2001-05-18    0.095354\n",
       "2001-05-19    1.126371\n",
       "2001-05-20    1.503271\n",
       "2001-05-21    1.230497\n",
       "2001-05-22   -0.958886\n",
       "2001-05-23    1.922828\n",
       "2001-05-24   -1.911466\n",
       "2001-05-25    1.937470\n",
       "2001-05-26   -1.689481\n",
       "2001-05-27   -1.290522\n",
       "2001-05-28   -0.902891\n",
       "2001-05-29    1.018093\n",
       "2001-05-30    0.289841\n",
       "2001-05-31    0.441249\n",
       "Freq: D, dtype: float64"
      ]
     },
     "execution_count": 39,
     "metadata": {},
     "output_type": "execute_result"
    }
   ],
   "source": [
    "longer_ts['2001-05']"
   ]
  },
  {
   "cell_type": "code",
   "execution_count": 40,
   "metadata": {},
   "outputs": [
    {
     "data": {
      "text/plain": [
       "DatetimeIndex(['2019-01-02', '2019-01-09', '2019-01-16', '2019-01-23',\n",
       "               '2019-01-30', '2019-02-06', '2019-02-13', '2019-02-20',\n",
       "               '2019-02-27', '2019-03-06', '2019-03-13', '2019-03-20',\n",
       "               '2019-03-27', '2019-04-03', '2019-04-10', '2019-04-17',\n",
       "               '2019-04-24', '2019-05-01', '2019-05-08', '2019-05-15',\n",
       "               '2019-05-22', '2019-05-29', '2019-06-05', '2019-06-12',\n",
       "               '2019-06-19', '2019-06-26', '2019-07-03', '2019-07-10',\n",
       "               '2019-07-17', '2019-07-24', '2019-07-31', '2019-08-07',\n",
       "               '2019-08-14', '2019-08-21', '2019-08-28', '2019-09-04',\n",
       "               '2019-09-11', '2019-09-18', '2019-09-25', '2019-10-02',\n",
       "               '2019-10-09', '2019-10-16', '2019-10-23', '2019-10-30',\n",
       "               '2019-11-06', '2019-11-13', '2019-11-20', '2019-11-27',\n",
       "               '2019-12-04', '2019-12-11', '2019-12-18', '2019-12-25',\n",
       "               '2020-01-01', '2020-01-08', '2020-01-15', '2020-01-22',\n",
       "               '2020-01-29', '2020-02-05', '2020-02-12', '2020-02-19',\n",
       "               '2020-02-26', '2020-03-04', '2020-03-11', '2020-03-18',\n",
       "               '2020-03-25', '2020-04-01', '2020-04-08', '2020-04-15',\n",
       "               '2020-04-22', '2020-04-29', '2020-05-06', '2020-05-13',\n",
       "               '2020-05-20', '2020-05-27', '2020-06-03', '2020-06-10',\n",
       "               '2020-06-17', '2020-06-24', '2020-07-01', '2020-07-08',\n",
       "               '2020-07-15', '2020-07-22', '2020-07-29', '2020-08-05',\n",
       "               '2020-08-12', '2020-08-19', '2020-08-26', '2020-09-02',\n",
       "               '2020-09-09', '2020-09-16', '2020-09-23', '2020-09-30',\n",
       "               '2020-10-07', '2020-10-14', '2020-10-21', '2020-10-28',\n",
       "               '2020-11-04', '2020-11-11', '2020-11-18', '2020-11-25'],\n",
       "              dtype='datetime64[ns]', freq='W-WED')"
      ]
     },
     "execution_count": 40,
     "metadata": {},
     "output_type": "execute_result"
    }
   ],
   "source": [
    "dates = pd.date_range('1/1/2019', periods=100, freq='W-WED')\n",
    "dates"
   ]
  },
  {
   "cell_type": "code",
   "execution_count": 41,
   "metadata": {},
   "outputs": [],
   "source": [
    "\n",
    "long_df = pd.DataFrame(np.random.randn(100, 4), \n",
    "                        index=dates, \n",
    "                       columns=['Colorado','Texas','New York', 'Ohio'])\n"
   ]
  },
  {
   "cell_type": "code",
   "execution_count": 43,
   "metadata": {},
   "outputs": [
    {
     "data": {
      "text/html": [
       "<div>\n",
       "<style scoped>\n",
       "    .dataframe tbody tr th:only-of-type {\n",
       "        vertical-align: middle;\n",
       "    }\n",
       "\n",
       "    .dataframe tbody tr th {\n",
       "        vertical-align: top;\n",
       "    }\n",
       "\n",
       "    .dataframe thead th {\n",
       "        text-align: right;\n",
       "    }\n",
       "</style>\n",
       "<table border=\"1\" class=\"dataframe\">\n",
       "  <thead>\n",
       "    <tr style=\"text-align: right;\">\n",
       "      <th></th>\n",
       "      <th>Colorado</th>\n",
       "      <th>Texas</th>\n",
       "      <th>New York</th>\n",
       "      <th>Ohio</th>\n",
       "    </tr>\n",
       "  </thead>\n",
       "  <tbody>\n",
       "    <tr>\n",
       "      <td>2019-01-02</td>\n",
       "      <td>1.700526</td>\n",
       "      <td>1.230644</td>\n",
       "      <td>1.354581</td>\n",
       "      <td>0.169942</td>\n",
       "    </tr>\n",
       "    <tr>\n",
       "      <td>2019-01-09</td>\n",
       "      <td>-0.044499</td>\n",
       "      <td>-1.385786</td>\n",
       "      <td>1.307881</td>\n",
       "      <td>3.111295</td>\n",
       "    </tr>\n",
       "    <tr>\n",
       "      <td>2019-01-16</td>\n",
       "      <td>1.367792</td>\n",
       "      <td>0.616747</td>\n",
       "      <td>-1.474092</td>\n",
       "      <td>0.347270</td>\n",
       "    </tr>\n",
       "    <tr>\n",
       "      <td>2019-01-23</td>\n",
       "      <td>0.976271</td>\n",
       "      <td>0.658303</td>\n",
       "      <td>-0.321321</td>\n",
       "      <td>0.729367</td>\n",
       "    </tr>\n",
       "    <tr>\n",
       "      <td>2019-01-30</td>\n",
       "      <td>1.255295</td>\n",
       "      <td>2.474693</td>\n",
       "      <td>1.932839</td>\n",
       "      <td>1.062833</td>\n",
       "    </tr>\n",
       "  </tbody>\n",
       "</table>\n",
       "</div>"
      ],
      "text/plain": [
       "            Colorado     Texas  New York      Ohio\n",
       "2019-01-02  1.700526  1.230644  1.354581  0.169942\n",
       "2019-01-09 -0.044499 -1.385786  1.307881  3.111295\n",
       "2019-01-16  1.367792  0.616747 -1.474092  0.347270\n",
       "2019-01-23  0.976271  0.658303 -0.321321  0.729367\n",
       "2019-01-30  1.255295  2.474693  1.932839  1.062833"
      ]
     },
     "execution_count": 43,
     "metadata": {},
     "output_type": "execute_result"
    }
   ],
   "source": [
    "long_df.head()"
   ]
  },
  {
   "cell_type": "code",
   "execution_count": 44,
   "metadata": {},
   "outputs": [
    {
     "data": {
      "text/html": [
       "<div>\n",
       "<style scoped>\n",
       "    .dataframe tbody tr th:only-of-type {\n",
       "        vertical-align: middle;\n",
       "    }\n",
       "\n",
       "    .dataframe tbody tr th {\n",
       "        vertical-align: top;\n",
       "    }\n",
       "\n",
       "    .dataframe thead th {\n",
       "        text-align: right;\n",
       "    }\n",
       "</style>\n",
       "<table border=\"1\" class=\"dataframe\">\n",
       "  <thead>\n",
       "    <tr style=\"text-align: right;\">\n",
       "      <th></th>\n",
       "      <th>Colorado</th>\n",
       "      <th>Texas</th>\n",
       "      <th>New York</th>\n",
       "      <th>Ohio</th>\n",
       "    </tr>\n",
       "  </thead>\n",
       "  <tbody>\n",
       "    <tr>\n",
       "      <td>2019-05-01</td>\n",
       "      <td>-0.797864</td>\n",
       "      <td>-0.288480</td>\n",
       "      <td>-0.369869</td>\n",
       "      <td>1.759240</td>\n",
       "    </tr>\n",
       "    <tr>\n",
       "      <td>2019-05-08</td>\n",
       "      <td>0.557340</td>\n",
       "      <td>-0.626431</td>\n",
       "      <td>0.461640</td>\n",
       "      <td>-0.591556</td>\n",
       "    </tr>\n",
       "    <tr>\n",
       "      <td>2019-05-15</td>\n",
       "      <td>-2.037685</td>\n",
       "      <td>0.155189</td>\n",
       "      <td>-0.291220</td>\n",
       "      <td>-0.101812</td>\n",
       "    </tr>\n",
       "    <tr>\n",
       "      <td>2019-05-22</td>\n",
       "      <td>-0.070325</td>\n",
       "      <td>-0.827663</td>\n",
       "      <td>-2.080966</td>\n",
       "      <td>-1.696244</td>\n",
       "    </tr>\n",
       "    <tr>\n",
       "      <td>2019-05-29</td>\n",
       "      <td>0.298730</td>\n",
       "      <td>0.932624</td>\n",
       "      <td>-0.270876</td>\n",
       "      <td>1.348643</td>\n",
       "    </tr>\n",
       "  </tbody>\n",
       "</table>\n",
       "</div>"
      ],
      "text/plain": [
       "            Colorado     Texas  New York      Ohio\n",
       "2019-05-01 -0.797864 -0.288480 -0.369869  1.759240\n",
       "2019-05-08  0.557340 -0.626431  0.461640 -0.591556\n",
       "2019-05-15 -2.037685  0.155189 -0.291220 -0.101812\n",
       "2019-05-22 -0.070325 -0.827663 -2.080966 -1.696244\n",
       "2019-05-29  0.298730  0.932624 -0.270876  1.348643"
      ]
     },
     "execution_count": 44,
     "metadata": {},
     "output_type": "execute_result"
    }
   ],
   "source": [
    "long_df.loc['5-2019']"
   ]
  },
  {
   "cell_type": "code",
   "execution_count": 45,
   "metadata": {},
   "outputs": [
    {
     "data": {
      "text/plain": [
       "DatetimeIndex(['2012-04-05', '2012-04-12', '2012-04-19', '2012-04-26',\n",
       "               '2012-05-03', '2012-05-10', '2012-05-17', '2012-05-24',\n",
       "               '2012-05-31'],\n",
       "              dtype='datetime64[ns]', freq='W-THU')"
      ]
     },
     "execution_count": 45,
     "metadata": {},
     "output_type": "execute_result"
    }
   ],
   "source": [
    "pd.date_range(start='2012-04-01',end ='2012-06-01',freq=\"W-Thu\")"
   ]
  },
  {
   "cell_type": "code",
   "execution_count": 46,
   "metadata": {},
   "outputs": [
    {
     "data": {
      "text/plain": [
       "DatetimeIndex(['2020-01-31', '2020-04-30', '2020-07-31', '2020-10-31',\n",
       "               '2021-01-31'],\n",
       "              dtype='datetime64[ns]', freq='3M')"
      ]
     },
     "execution_count": 46,
     "metadata": {},
     "output_type": "execute_result"
    }
   ],
   "source": [
    "#freq can also be specified as an Offset object.\n",
    "pd.date_range(start='1/1/2020', periods=5, freq=pd.offsets.MonthEnd(3))"
   ]
  },
  {
   "cell_type": "code",
   "execution_count": 47,
   "metadata": {},
   "outputs": [
    {
     "data": {
      "text/plain": [
       "DatetimeIndex(['2019-01-31', '2019-04-30', '2019-07-31', '2019-10-31',\n",
       "               '2020-01-31'],\n",
       "              dtype='datetime64[ns]', freq='3M')"
      ]
     },
     "execution_count": 47,
     "metadata": {},
     "output_type": "execute_result"
    }
   ],
   "source": [
    "#freq can also be specified as an Offset object.\n",
    "pd.date_range(start='1/1/2019', periods=5, freq='3M')"
   ]
  },
  {
   "cell_type": "code",
   "execution_count": null,
   "metadata": {},
   "outputs": [],
   "source": []
  }
 ],
 "metadata": {
  "kernelspec": {
   "display_name": "Python 3",
   "language": "python",
   "name": "python3"
  },
  "language_info": {
   "codemirror_mode": {
    "name": "ipython",
    "version": 3
   },
   "file_extension": ".py",
   "mimetype": "text/x-python",
   "name": "python",
   "nbconvert_exporter": "python",
   "pygments_lexer": "ipython3",
   "version": "3.7.4"
  }
 },
 "nbformat": 4,
 "nbformat_minor": 2
}
